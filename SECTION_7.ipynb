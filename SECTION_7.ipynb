{
  "nbformat": 4,
  "nbformat_minor": 0,
  "metadata": {
    "colab": {
      "provenance": []
    },
    "kernelspec": {
      "name": "python3",
      "display_name": "Python 3"
    },
    "language_info": {
      "name": "python"
    }
  },
  "cells": [
    {
      "cell_type": "markdown",
      "source": [
        "# **SECTION :-7 File Handling**"
      ],
      "metadata": {
        "id": "YL5JuyNwprRd"
      }
    },
    {
      "cell_type": "markdown",
      "source": [
        "File handling in Python allows you to read from, write to, and manipulate files stored on your computer. It’s an essential skill for any programmer because it enables you to work with data stored in files.\n",
        "\n",
        "Basic Operations :- There are four main operations you can perform on a file:\n",
        "1. Open a file\n",
        "2. Read from a file\n",
        "3. Write to a file\n",
        "4. Close a file"
      ],
      "metadata": {
        "id": "PyhJhsAVp0be"
      }
    },
    {
      "cell_type": "markdown",
      "source": [
        "### **1. Openning a file**"
      ],
      "metadata": {
        "id": "JOFOQNYSql9-"
      }
    },
    {
      "cell_type": "code",
      "execution_count": null,
      "metadata": {
        "id": "SrMloEO9kLIO"
      },
      "outputs": [],
      "source": [
        "file = open('filename.txt', 'mode')"
      ]
    },
    {
      "cell_type": "markdown",
      "source": [
        "filename.txt :- The name of the file you want to open.\n",
        "\n",
        "Mode:- The mode in which you want to open the file (e.g., read, write, append).\n",
        "\n",
        "Common Modes -:\n",
        "1. 'r' : Read (default mode, file must exist).\n",
        "2. 'w' : Write (creates a new file or overwrites an existing file).\n",
        "3. 'a' : Append (adds content to the end of the file).\n",
        "4. 'b' : Binary mode (useful for non-text files like images).\n",
        "5. 't' : Text mode (default mode, used for text files)."
      ],
      "metadata": {
        "id": "mynwA8peq0aO"
      }
    },
    {
      "cell_type": "markdown",
      "source": [
        "### **2.Reading from a File**"
      ],
      "metadata": {
        "id": "BKlJiuk8rLg4"
      }
    },
    {
      "cell_type": "code",
      "source": [
        "with open(\"1st_exp.txt\",'r') as file:\n",
        "  content=file.read()\n",
        "  print(content)"
      ],
      "metadata": {
        "colab": {
          "base_uri": "https://localhost:8080/"
        },
        "id": "G8KLMGCArPhi",
        "outputId": "27a15d8d-bf39-4d3e-9638-1c69fba019d0"
      },
      "execution_count": 9,
      "outputs": [
        {
          "output_type": "stream",
          "name": "stdout",
          "text": [
            "MY name is satyam kumar \n",
            "b.tech 3rd year student\n",
            "at kiit university\n"
          ]
        }
      ]
    },
    {
      "cell_type": "code",
      "source": [
        "# Read a file line by line\n",
        "with open(\"1st_exp.txt\",'r')as file:\n",
        "  for line in file:\n",
        "    print(line)"
      ],
      "metadata": {
        "colab": {
          "base_uri": "https://localhost:8080/"
        },
        "id": "6kW2QNKqx6jC",
        "outputId": "a31c7773-b913-4579-deb4-16435a6bfc24"
      },
      "execution_count": 12,
      "outputs": [
        {
          "output_type": "stream",
          "name": "stdout",
          "text": [
            "MY name is satyam kumar \n",
            "\n",
            "b.tech 3rd year student\n",
            "\n",
            "at kiit university\n"
          ]
        }
      ]
    },
    {
      "cell_type": "code",
      "source": [
        "# Read a file line by line\n",
        "with open(\"1st_exp.txt\",'r')as file:\n",
        "  for line in file:\n",
        "    print(line.strip())"
      ],
      "metadata": {
        "colab": {
          "base_uri": "https://localhost:8080/"
        },
        "id": "6HXdTxMGy_da",
        "outputId": "35f06d48-8595-4b73-e731-6846f51a98a0"
      },
      "execution_count": 13,
      "outputs": [
        {
          "output_type": "stream",
          "name": "stdout",
          "text": [
            "MY name is satyam kumar\n",
            "b.tech 3rd year student\n",
            "at kiit university\n"
          ]
        }
      ]
    },
    {
      "cell_type": "markdown",
      "source": [
        "### **3.Writing to a File**"
      ],
      "metadata": {
        "id": "SvNef_W5zIP3"
      }
    },
    {
      "cell_type": "code",
      "source": [
        "# writing a file(overwritting)\n",
        "with open(\"1st_exp.txt\",'w') as file:\n",
        "  file.write(\"hello world\\n\")\n",
        "  file.write(\"welcome to python course\")"
      ],
      "metadata": {
        "id": "qAh-qR46zKiA"
      },
      "execution_count": 14,
      "outputs": []
    },
    {
      "cell_type": "code",
      "source": [
        "with open(\"1st_exp.txt\",'r')as file:\n",
        "  for line in file:\n",
        "    print(line.strip())"
      ],
      "metadata": {
        "colab": {
          "base_uri": "https://localhost:8080/"
        },
        "id": "sm55LRGPznS-",
        "outputId": "47484551-b086-40da-c560-ed1ac6c6b7ef"
      },
      "execution_count": 15,
      "outputs": [
        {
          "output_type": "stream",
          "name": "stdout",
          "text": [
            "hello world\n",
            "welcome to python course\n"
          ]
        }
      ]
    },
    {
      "cell_type": "code",
      "source": [
        "# write a file(without overwritting)\n",
        "with open('1st_exp.txt','a')as file:\n",
        "  file.write(\"\\n append operation taking place\\n\")\n",
        "  file.write(\"in this process we are writting in the existing file without removing original content\")\n",
        "with open(\"1st_exp.txt\",'r')as file:\n",
        "  for line in file:\n",
        "    print(line.strip())"
      ],
      "metadata": {
        "colab": {
          "base_uri": "https://localhost:8080/"
        },
        "id": "c9CatawZzr4M",
        "outputId": "b3330d4a-e943-4840-c6ff-ab76bd266376"
      },
      "execution_count": 18,
      "outputs": [
        {
          "output_type": "stream",
          "name": "stdout",
          "text": [
            "hello world\n",
            "welcome to python courseappend operation taking place\n",
            "in this process we are writting in the existing file without removing original content\n",
            "append operation taking place\n",
            "in this process we are writting in the existing file without removing original content\n"
          ]
        }
      ]
    },
    {
      "cell_type": "code",
      "source": [
        "# writing a lsit of lines to a files\n",
        "line=['\\n first line\\n','second line\\n','third line\\n']\n",
        "with open(\"1st_exp.txt\",'a')as file:\n",
        "  file.writelines(line)\n",
        "with open(\"1st_exp.txt\",'r')as file:\n",
        "  for line in file:\n",
        "    print(line.strip())"
      ],
      "metadata": {
        "colab": {
          "base_uri": "https://localhost:8080/"
        },
        "id": "r26D6V1p0od2",
        "outputId": "0090377b-1b58-4676-d496-9cfc9c617395"
      },
      "execution_count": 20,
      "outputs": [
        {
          "output_type": "stream",
          "name": "stdout",
          "text": [
            "hello world\n",
            "welcome to python courseappend operation taking place\n",
            "in this process we are writting in the existing file without removing original content\n",
            "append operation taking place\n",
            "in this process we are writting in the existing file without removing original content\n",
            "first line\n",
            "second line\n",
            "third line\n"
          ]
        }
      ]
    },
    {
      "cell_type": "code",
      "source": [
        "# Binary files\n",
        "# writing to a binary files\n",
        "data=b'\\x00\\x01\\x02\\x03\\x04\\x05\\x06\\x07\\x08\\x09'\n",
        "with open('exp.bin','wb')as file:\n",
        "  file.write(data)"
      ],
      "metadata": {
        "id": "mjKmTOuj1hdb"
      },
      "execution_count": null,
      "outputs": []
    },
    {
      "cell_type": "code",
      "source": [
        "# reading a binary file\n",
        "with open('example.bin','rb')as file:\n",
        "  content=file.read()\n",
        "  print(content)"
      ],
      "metadata": {
        "id": "Yr4c283k2tG7"
      },
      "execution_count": null,
      "outputs": []
    },
    {
      "cell_type": "code",
      "source": [
        "# reading the content from a source  text file and writing to a destination text file\n",
        "\n",
        "with open('source.txt','r')as source_file:\n",
        "  content=source_file.read()\n",
        "with open('destination.txt','w')as destination_file:\n",
        "  destination_file.write(content)"
      ],
      "metadata": {
        "id": "WWwXArkr25cO"
      },
      "execution_count": 22,
      "outputs": []
    },
    {
      "cell_type": "code",
      "source": [
        "# Read a text file and count the number of lines,words and characters\n",
        "ef count_text_file(file_path):\n",
        "    with open(file_path, 'r') as file:\n",
        "        lines = file.readlines()\n",
        "        line_count = len(lines)\n",
        "        word_count = sum(len(line.split()) for line in lines)\n",
        "        char_count = sum(len(line) for line in lines)\n",
        "    return line_count, word_count, char_count\n",
        "\n",
        "file_path = 'source.txt'\n",
        "lines, words, characters = count_text_file(file_path)\n",
        "print(f'Lines: {lines}, Words: {words}, Characters: {characters}')\n"
      ],
      "metadata": {
        "colab": {
          "base_uri": "https://localhost:8080/"
        },
        "id": "7OY35Rd53Wov",
        "outputId": "42852724-8fa4-4078-cd2a-861903b8a3ca"
      },
      "execution_count": 24,
      "outputs": [
        {
          "output_type": "stream",
          "name": "stdout",
          "text": [
            "Lines: 9, Words: 9, Characters: 87\n"
          ]
        }
      ]
    },
    {
      "cell_type": "markdown",
      "source": [
        "The w+ mode in Python is used to open a file for both reading and writing. If the file does not exist, it will be created. If the file exists, its content is truncated (i.e., the file is overwritten)."
      ],
      "metadata": {
        "id": "y-ge_4_S5sSp"
      }
    },
    {
      "cell_type": "code",
      "source": [
        "### Writing and then reading a file\n",
        "\n",
        "with open('example.txt','w+') as file:\n",
        "    file.write(\"Hello world\\n\")\n",
        "    file.write(\"This is a new line \\n\")\n",
        "\n",
        "    ## Move the file cursor to the beginning\n",
        "    file.seek(0)\n",
        "\n",
        "    ## Read the content of the file\n",
        "    content=file.read()\n",
        "    print(content)\n"
      ],
      "metadata": {
        "colab": {
          "base_uri": "https://localhost:8080/"
        },
        "id": "aRya02AM5dPr",
        "outputId": "6343f87c-c6f0-41f9-cd16-0b476c4bd57c"
      },
      "execution_count": 25,
      "outputs": [
        {
          "output_type": "stream",
          "name": "stdout",
          "text": [
            "Hello world\n",
            "This is a new line \n",
            "\n"
          ]
        }
      ]
    },
    {
      "cell_type": "markdown",
      "source": [
        "### **4. Working with File Path**"
      ],
      "metadata": {
        "id": "3OJgciVZ69pR"
      }
    },
    {
      "cell_type": "code",
      "source": [
        "import os\n",
        "\n",
        "# Create a new directory\n",
        "new_directory = 'package'\n",
        "os.mkdir(new_directory)\n",
        "print(f\"Directory '{new_directory}' created\")\n"
      ],
      "metadata": {
        "colab": {
          "base_uri": "https://localhost:8080/"
        },
        "id": "nqigQREW7F5C",
        "outputId": "4f7e929d-6f56-43af-c957-2cd7fd90dcb4"
      },
      "execution_count": 27,
      "outputs": [
        {
          "output_type": "stream",
          "name": "stdout",
          "text": [
            "Directory 'package' created\n"
          ]
        }
      ]
    },
    {
      "cell_type": "code",
      "source": [
        "# lisiting Files and Directory\n",
        "items=os.listdir('.')\n",
        "print(items)"
      ],
      "metadata": {
        "colab": {
          "base_uri": "https://localhost:8080/"
        },
        "id": "e6mIibnj7srO",
        "outputId": "2fa7be12-de60-49e9-fa96-6fd07a4fb97c"
      },
      "execution_count": 29,
      "outputs": [
        {
          "output_type": "stream",
          "name": "stdout",
          "text": [
            "['.config', 'destination.txt', '.ipynb_checkpoints', 'example.txt', 'package', 'source.txt', '1st_exp.txt', 'sample_data']\n"
          ]
        }
      ]
    },
    {
      "cell_type": "code",
      "source": [
        "# joining Paths\n",
        "dir_name='folder'\n",
        "file_name='file.txt'\n",
        "full_path=os.path.join(dir_name,file_name)\n",
        "print(full_path)"
      ],
      "metadata": {
        "colab": {
          "base_uri": "https://localhost:8080/"
        },
        "id": "hzvAWDoB7-gG",
        "outputId": "de84b688-0789-4e95-bab6-add9f4e253cf"
      },
      "execution_count": 30,
      "outputs": [
        {
          "output_type": "stream",
          "name": "stdout",
          "text": [
            "folder/file.txt\n"
          ]
        }
      ]
    },
    {
      "cell_type": "code",
      "source": [
        "dir_name='folder'\n",
        "file_name='file.txt'\n",
        "full_path = os.path.join(os.getcwd(), dir_name, file_name)\n",
        "print(full_path)"
      ],
      "metadata": {
        "colab": {
          "base_uri": "https://localhost:8080/"
        },
        "id": "PwslQZca8Xnd",
        "outputId": "838a9ef6-eb39-4b9d-adbd-8e05cecc7292"
      },
      "execution_count": 33,
      "outputs": [
        {
          "output_type": "stream",
          "name": "stdout",
          "text": [
            "/content/folder/file.txt\n"
          ]
        }
      ]
    },
    {
      "cell_type": "code",
      "source": [
        "path = 'example1.txt'\n",
        "if os.path.exists(path):\n",
        "    print(f\"The path {path} exists\")\n",
        "else:\n",
        "    print(f\"The path {path} does not exist\")"
      ],
      "metadata": {
        "colab": {
          "base_uri": "https://localhost:8080/"
        },
        "id": "gYizUBLw8wwo",
        "outputId": "7ea6ab5c-7816-4a91-cb77-99acdabc1bf0"
      },
      "execution_count": 35,
      "outputs": [
        {
          "output_type": "stream",
          "name": "stdout",
          "text": [
            "The path example1.txt does not exist\n"
          ]
        }
      ]
    },
    {
      "cell_type": "code",
      "source": [
        "# checking if a path is a file or directory\n",
        "path='source.txt'\n",
        "if os.path.isfile(path):\n",
        "  print(f\"the path {path} is a file\")\n",
        "elif os.path.isdir(path):\n",
        "  print(f\"the path {path} is a directory\")\n",
        "else:\n",
        "  print(f\"the path {path} is neither a file nor a directory\")"
      ],
      "metadata": {
        "colab": {
          "base_uri": "https://localhost:8080/"
        },
        "id": "et0jjEWM9R0w",
        "outputId": "cfad33ec-efb3-4873-9282-f70978ff72eb"
      },
      "execution_count": 36,
      "outputs": [
        {
          "output_type": "stream",
          "name": "stdout",
          "text": [
            "the path source.txt is a file\n"
          ]
        }
      ]
    },
    {
      "cell_type": "code",
      "source": [
        "# Getting the absolute path\n",
        "relative_path='source.txt'\n",
        "absolute_path=os.path.abspath(relative_path)\n",
        "print(absolute_path)"
      ],
      "metadata": {
        "colab": {
          "base_uri": "https://localhost:8080/"
        },
        "id": "aIRtU2cV-BLn",
        "outputId": "76dd8f39-a686-49e7-cfa1-9b24bc929358"
      },
      "execution_count": 37,
      "outputs": [
        {
          "output_type": "stream",
          "name": "stdout",
          "text": [
            "/content/source.txt\n"
          ]
        }
      ]
    }
  ]
}